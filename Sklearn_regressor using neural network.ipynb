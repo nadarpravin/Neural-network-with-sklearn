{
 "cells": [
  {
   "cell_type": "code",
   "execution_count": 1,
   "id": "adee3b49",
   "metadata": {},
   "outputs": [],
   "source": [
    "#import external pandas_datareader library with alias of web\n",
    "#import pandas_datareader as web\n",
    " \n",
    "#import datetime internal datetime module\n",
    "#datetime is a Python module\n",
    "#import datetime\n",
    " \n",
    "#datetime.datetime is a data type within the datetime module\n",
    "#start = datetime.datetime(2010, 1, 1)\n",
    "#end = datetime.datetime(2017, 12, 31)\n",
    " \n",
    "#DataReader method name is case sensitive\n",
    "#df = web.DataReader(\"nvda\", 'yahoo', start, end)\n",
    " \n",
    "#invoke to_csv for df dataframe object from \n",
    "#DataReader method in the pandas_datareader library\n",
    " \n",
    "#..\\first_yahoo_prices_to_csv_demo.csv must not\n",
    "#be open in another app, such as Excel\n",
    "#df.to_csv('stockprice.csv')\n"
   ]
  },
  {
   "cell_type": "code",
   "execution_count": 2,
   "id": "5bcd8972",
   "metadata": {},
   "outputs": [],
   "source": [
    "import os\n",
    "import pandas as pd\n",
    "import warnings\n",
    "warnings.filterwarnings('ignore')\n",
    "os.chdir('C:\\\\Users\\\\SALESKEN\\\\Desktop\\\\Deep Learning\\\\Files')#changing directory"
   ]
  },
  {
   "cell_type": "code",
   "execution_count": 3,
   "id": "2264d65a",
   "metadata": {},
   "outputs": [],
   "source": [
    "df=pd.read_csv('stockprice.csv')"
   ]
  },
  {
   "cell_type": "code",
   "execution_count": 4,
   "id": "ff8c10d7",
   "metadata": {},
   "outputs": [
    {
     "data": {
      "text/plain": [
       "(2014, 7)"
      ]
     },
     "execution_count": 4,
     "metadata": {},
     "output_type": "execute_result"
    }
   ],
   "source": [
    "df.shape#checking dimension"
   ]
  },
  {
   "cell_type": "code",
   "execution_count": 5,
   "id": "d4beec01",
   "metadata": {},
   "outputs": [
    {
     "data": {
      "text/html": [
       "<div>\n",
       "<style scoped>\n",
       "    .dataframe tbody tr th:only-of-type {\n",
       "        vertical-align: middle;\n",
       "    }\n",
       "\n",
       "    .dataframe tbody tr th {\n",
       "        vertical-align: top;\n",
       "    }\n",
       "\n",
       "    .dataframe thead th {\n",
       "        text-align: right;\n",
       "    }\n",
       "</style>\n",
       "<table border=\"1\" class=\"dataframe\">\n",
       "  <thead>\n",
       "    <tr style=\"text-align: right;\">\n",
       "      <th></th>\n",
       "      <th>Date</th>\n",
       "      <th>High</th>\n",
       "      <th>Low</th>\n",
       "      <th>Open</th>\n",
       "      <th>Close</th>\n",
       "      <th>Volume</th>\n",
       "      <th>Adj Close</th>\n",
       "    </tr>\n",
       "  </thead>\n",
       "  <tbody>\n",
       "    <tr>\n",
       "      <th>0</th>\n",
       "      <td>2009-12-31</td>\n",
       "      <td>4.7375</td>\n",
       "      <td>4.6650</td>\n",
       "      <td>4.6775</td>\n",
       "      <td>4.6700</td>\n",
       "      <td>70034000.0</td>\n",
       "      <td>4.289910</td>\n",
       "    </tr>\n",
       "    <tr>\n",
       "      <th>1</th>\n",
       "      <td>2010-01-04</td>\n",
       "      <td>4.6550</td>\n",
       "      <td>4.5275</td>\n",
       "      <td>4.6275</td>\n",
       "      <td>4.6225</td>\n",
       "      <td>80020400.0</td>\n",
       "      <td>4.246276</td>\n",
       "    </tr>\n",
       "    <tr>\n",
       "      <th>2</th>\n",
       "      <td>2010-01-05</td>\n",
       "      <td>4.7400</td>\n",
       "      <td>4.6050</td>\n",
       "      <td>4.6050</td>\n",
       "      <td>4.6900</td>\n",
       "      <td>72864800.0</td>\n",
       "      <td>4.308282</td>\n",
       "    </tr>\n",
       "    <tr>\n",
       "      <th>3</th>\n",
       "      <td>2010-01-06</td>\n",
       "      <td>4.7300</td>\n",
       "      <td>4.6425</td>\n",
       "      <td>4.6875</td>\n",
       "      <td>4.7200</td>\n",
       "      <td>64916800.0</td>\n",
       "      <td>4.335843</td>\n",
       "    </tr>\n",
       "    <tr>\n",
       "      <th>4</th>\n",
       "      <td>2010-01-07</td>\n",
       "      <td>4.7150</td>\n",
       "      <td>4.5925</td>\n",
       "      <td>4.6950</td>\n",
       "      <td>4.6275</td>\n",
       "      <td>54779200.0</td>\n",
       "      <td>4.250871</td>\n",
       "    </tr>\n",
       "  </tbody>\n",
       "</table>\n",
       "</div>"
      ],
      "text/plain": [
       "         Date    High     Low    Open   Close      Volume  Adj Close\n",
       "0  2009-12-31  4.7375  4.6650  4.6775  4.6700  70034000.0   4.289910\n",
       "1  2010-01-04  4.6550  4.5275  4.6275  4.6225  80020400.0   4.246276\n",
       "2  2010-01-05  4.7400  4.6050  4.6050  4.6900  72864800.0   4.308282\n",
       "3  2010-01-06  4.7300  4.6425  4.6875  4.7200  64916800.0   4.335843\n",
       "4  2010-01-07  4.7150  4.5925  4.6950  4.6275  54779200.0   4.250871"
      ]
     },
     "execution_count": 5,
     "metadata": {},
     "output_type": "execute_result"
    }
   ],
   "source": [
    "df.head()#checking head"
   ]
  },
  {
   "cell_type": "code",
   "execution_count": 6,
   "id": "926bc6bc",
   "metadata": {},
   "outputs": [
    {
     "name": "stdout",
     "output_type": "stream",
     "text": [
      "<class 'pandas.core.frame.DataFrame'>\n",
      "RangeIndex: 2014 entries, 0 to 2013\n",
      "Data columns (total 7 columns):\n",
      " #   Column     Non-Null Count  Dtype  \n",
      "---  ------     --------------  -----  \n",
      " 0   Date       2014 non-null   object \n",
      " 1   High       2014 non-null   float64\n",
      " 2   Low        2014 non-null   float64\n",
      " 3   Open       2014 non-null   float64\n",
      " 4   Close      2014 non-null   float64\n",
      " 5   Volume     2014 non-null   float64\n",
      " 6   Adj Close  2014 non-null   float64\n",
      "dtypes: float64(6), object(1)\n",
      "memory usage: 110.3+ KB\n"
     ]
    }
   ],
   "source": [
    "df.info()#information about datset"
   ]
  },
  {
   "cell_type": "code",
   "execution_count": 7,
   "id": "7bdf65c9",
   "metadata": {},
   "outputs": [],
   "source": [
    "df=df.drop(['Date'],axis=1)"
   ]
  },
  {
   "cell_type": "code",
   "execution_count": 8,
   "id": "ebe7e129",
   "metadata": {},
   "outputs": [
    {
     "data": {
      "text/html": [
       "<div>\n",
       "<style scoped>\n",
       "    .dataframe tbody tr th:only-of-type {\n",
       "        vertical-align: middle;\n",
       "    }\n",
       "\n",
       "    .dataframe tbody tr th {\n",
       "        vertical-align: top;\n",
       "    }\n",
       "\n",
       "    .dataframe thead th {\n",
       "        text-align: right;\n",
       "    }\n",
       "</style>\n",
       "<table border=\"1\" class=\"dataframe\">\n",
       "  <thead>\n",
       "    <tr style=\"text-align: right;\">\n",
       "      <th></th>\n",
       "      <th>High</th>\n",
       "      <th>Low</th>\n",
       "      <th>Open</th>\n",
       "      <th>Close</th>\n",
       "      <th>Volume</th>\n",
       "      <th>Adj Close</th>\n",
       "    </tr>\n",
       "  </thead>\n",
       "  <tbody>\n",
       "    <tr>\n",
       "      <th>count</th>\n",
       "      <td>2014.000000</td>\n",
       "      <td>2014.000000</td>\n",
       "      <td>2014.000000</td>\n",
       "      <td>2014.000000</td>\n",
       "      <td>2.014000e+03</td>\n",
       "      <td>2014.000000</td>\n",
       "    </tr>\n",
       "    <tr>\n",
       "      <th>mean</th>\n",
       "      <td>9.614420</td>\n",
       "      <td>9.343744</td>\n",
       "      <td>9.486588</td>\n",
       "      <td>9.488491</td>\n",
       "      <td>5.271588e+07</td>\n",
       "      <td>9.222549</td>\n",
       "    </tr>\n",
       "    <tr>\n",
       "      <th>std</th>\n",
       "      <td>11.826803</td>\n",
       "      <td>11.501104</td>\n",
       "      <td>11.686299</td>\n",
       "      <td>11.679549</td>\n",
       "      <td>3.676770e+07</td>\n",
       "      <td>11.628847</td>\n",
       "    </tr>\n",
       "    <tr>\n",
       "      <th>min</th>\n",
       "      <td>2.262500</td>\n",
       "      <td>2.162500</td>\n",
       "      <td>2.180000</td>\n",
       "      <td>2.220000</td>\n",
       "      <td>4.564400e+06</td>\n",
       "      <td>2.039316</td>\n",
       "    </tr>\n",
       "    <tr>\n",
       "      <th>25%</th>\n",
       "      <td>3.645000</td>\n",
       "      <td>3.538125</td>\n",
       "      <td>3.587500</td>\n",
       "      <td>3.588750</td>\n",
       "      <td>2.939010e+07</td>\n",
       "      <td>3.316758</td>\n",
       "    </tr>\n",
       "    <tr>\n",
       "      <th>50%</th>\n",
       "      <td>4.638750</td>\n",
       "      <td>4.521250</td>\n",
       "      <td>4.572500</td>\n",
       "      <td>4.568750</td>\n",
       "      <td>4.290380e+07</td>\n",
       "      <td>4.302541</td>\n",
       "    </tr>\n",
       "    <tr>\n",
       "      <th>75%</th>\n",
       "      <td>7.841250</td>\n",
       "      <td>7.591875</td>\n",
       "      <td>7.716875</td>\n",
       "      <td>7.750625</td>\n",
       "      <td>6.507920e+07</td>\n",
       "      <td>7.576959</td>\n",
       "    </tr>\n",
       "    <tr>\n",
       "      <th>max</th>\n",
       "      <td>54.667500</td>\n",
       "      <td>53.650002</td>\n",
       "      <td>54.327499</td>\n",
       "      <td>54.240002</td>\n",
       "      <td>3.692928e+08</td>\n",
       "      <td>53.742962</td>\n",
       "    </tr>\n",
       "  </tbody>\n",
       "</table>\n",
       "</div>"
      ],
      "text/plain": [
       "              High          Low         Open        Close        Volume  \\\n",
       "count  2014.000000  2014.000000  2014.000000  2014.000000  2.014000e+03   \n",
       "mean      9.614420     9.343744     9.486588     9.488491  5.271588e+07   \n",
       "std      11.826803    11.501104    11.686299    11.679549  3.676770e+07   \n",
       "min       2.262500     2.162500     2.180000     2.220000  4.564400e+06   \n",
       "25%       3.645000     3.538125     3.587500     3.588750  2.939010e+07   \n",
       "50%       4.638750     4.521250     4.572500     4.568750  4.290380e+07   \n",
       "75%       7.841250     7.591875     7.716875     7.750625  6.507920e+07   \n",
       "max      54.667500    53.650002    54.327499    54.240002  3.692928e+08   \n",
       "\n",
       "         Adj Close  \n",
       "count  2014.000000  \n",
       "mean      9.222549  \n",
       "std      11.628847  \n",
       "min       2.039316  \n",
       "25%       3.316758  \n",
       "50%       4.302541  \n",
       "75%       7.576959  \n",
       "max      53.742962  "
      ]
     },
     "execution_count": 8,
     "metadata": {},
     "output_type": "execute_result"
    }
   ],
   "source": [
    "df.describe(include='all')#stats about dataset"
   ]
  },
  {
   "cell_type": "code",
   "execution_count": 9,
   "id": "008df246",
   "metadata": {},
   "outputs": [
    {
     "data": {
      "text/plain": [
       "High         0\n",
       "Low          0\n",
       "Open         0\n",
       "Close        0\n",
       "Volume       0\n",
       "Adj Close    0\n",
       "dtype: int64"
      ]
     },
     "execution_count": 9,
     "metadata": {},
     "output_type": "execute_result"
    }
   ],
   "source": [
    "df.isnull().sum()#checking for missing files"
   ]
  },
  {
   "cell_type": "code",
   "execution_count": 10,
   "id": "0430a382",
   "metadata": {},
   "outputs": [],
   "source": [
    "#corr_matrix = df.corr() \n",
    "\n",
    "#filter correlation values above 0.5\n",
    "#filter_corr = corr_matrix[corr_matrix > 0.5]\n",
    "\n",
    "#plot correlation matrix\n",
    "#plt.figure(figsize=(20,12))\n",
    "#sns.heatmap(filter_corr,cmap='coolwarm',annot=True);"
   ]
  },
  {
   "cell_type": "code",
   "execution_count": 11,
   "id": "14f3b6e9",
   "metadata": {},
   "outputs": [
    {
     "data": {
      "text/html": [
       "<div>\n",
       "<style scoped>\n",
       "    .dataframe tbody tr th:only-of-type {\n",
       "        vertical-align: middle;\n",
       "    }\n",
       "\n",
       "    .dataframe tbody tr th {\n",
       "        vertical-align: top;\n",
       "    }\n",
       "\n",
       "    .dataframe thead th {\n",
       "        text-align: right;\n",
       "    }\n",
       "</style>\n",
       "<table border=\"1\" class=\"dataframe\">\n",
       "  <thead>\n",
       "    <tr style=\"text-align: right;\">\n",
       "      <th></th>\n",
       "      <th>High</th>\n",
       "      <th>Low</th>\n",
       "      <th>Open</th>\n",
       "      <th>Close</th>\n",
       "      <th>Volume</th>\n",
       "      <th>Adj Close</th>\n",
       "    </tr>\n",
       "  </thead>\n",
       "  <tbody>\n",
       "    <tr>\n",
       "      <th>High</th>\n",
       "      <td>1.000000</td>\n",
       "      <td>0.999764</td>\n",
       "      <td>0.999872</td>\n",
       "      <td>0.999831</td>\n",
       "      <td>0.134509</td>\n",
       "      <td>0.999810</td>\n",
       "    </tr>\n",
       "    <tr>\n",
       "      <th>Low</th>\n",
       "      <td>0.999764</td>\n",
       "      <td>1.000000</td>\n",
       "      <td>0.999779</td>\n",
       "      <td>0.999872</td>\n",
       "      <td>0.123494</td>\n",
       "      <td>0.999863</td>\n",
       "    </tr>\n",
       "    <tr>\n",
       "      <th>Open</th>\n",
       "      <td>0.999872</td>\n",
       "      <td>0.999779</td>\n",
       "      <td>1.000000</td>\n",
       "      <td>0.999649</td>\n",
       "      <td>0.129810</td>\n",
       "      <td>0.999634</td>\n",
       "    </tr>\n",
       "    <tr>\n",
       "      <th>Close</th>\n",
       "      <td>0.999831</td>\n",
       "      <td>0.999872</td>\n",
       "      <td>0.999649</td>\n",
       "      <td>1.000000</td>\n",
       "      <td>0.128891</td>\n",
       "      <td>0.999984</td>\n",
       "    </tr>\n",
       "    <tr>\n",
       "      <th>Volume</th>\n",
       "      <td>0.134509</td>\n",
       "      <td>0.123494</td>\n",
       "      <td>0.129810</td>\n",
       "      <td>0.128891</td>\n",
       "      <td>1.000000</td>\n",
       "      <td>0.126171</td>\n",
       "    </tr>\n",
       "    <tr>\n",
       "      <th>Adj Close</th>\n",
       "      <td>0.999810</td>\n",
       "      <td>0.999863</td>\n",
       "      <td>0.999634</td>\n",
       "      <td>0.999984</td>\n",
       "      <td>0.126171</td>\n",
       "      <td>1.000000</td>\n",
       "    </tr>\n",
       "  </tbody>\n",
       "</table>\n",
       "</div>"
      ],
      "text/plain": [
       "               High       Low      Open     Close    Volume  Adj Close\n",
       "High       1.000000  0.999764  0.999872  0.999831  0.134509   0.999810\n",
       "Low        0.999764  1.000000  0.999779  0.999872  0.123494   0.999863\n",
       "Open       0.999872  0.999779  1.000000  0.999649  0.129810   0.999634\n",
       "Close      0.999831  0.999872  0.999649  1.000000  0.128891   0.999984\n",
       "Volume     0.134509  0.123494  0.129810  0.128891  1.000000   0.126171\n",
       "Adj Close  0.999810  0.999863  0.999634  0.999984  0.126171   1.000000"
      ]
     },
     "execution_count": 11,
     "metadata": {},
     "output_type": "execute_result"
    }
   ],
   "source": [
    "df.corr()#checking correlation"
   ]
  },
  {
   "cell_type": "code",
   "execution_count": 12,
   "id": "e18145a1",
   "metadata": {},
   "outputs": [],
   "source": [
    "predictor=df.iloc[:,[0,1,2,4,5]]#Independent variable"
   ]
  },
  {
   "cell_type": "code",
   "execution_count": 13,
   "id": "34221679",
   "metadata": {},
   "outputs": [],
   "source": [
    "target=df.iloc[:,3]#Dependent variable"
   ]
  },
  {
   "cell_type": "code",
   "execution_count": 14,
   "id": "2e3eb204",
   "metadata": {},
   "outputs": [],
   "source": [
    "from sklearn.preprocessing import StandardScaler  \n",
    "import numpy as np\n"
   ]
  },
  {
   "cell_type": "code",
   "execution_count": 15,
   "id": "4625a6e3",
   "metadata": {},
   "outputs": [],
   "source": [
    "sc= StandardScaler()"
   ]
  },
  {
   "cell_type": "code",
   "execution_count": 16,
   "id": "7e231492",
   "metadata": {},
   "outputs": [],
   "source": [
    "predictor=sc.fit_transform(predictor)#scaling Input variable"
   ]
  },
  {
   "cell_type": "code",
   "execution_count": 17,
   "id": "d411b50d",
   "metadata": {},
   "outputs": [],
   "source": [
    "from sklearn.model_selection import train_test_split"
   ]
  },
  {
   "cell_type": "code",
   "execution_count": 18,
   "id": "81f0fd10",
   "metadata": {},
   "outputs": [],
   "source": [
    "x_train,x_test,y_train,y_test=train_test_split(predictor,target,test_size=0.2,random_state=42)"
   ]
  },
  {
   "cell_type": "code",
   "execution_count": 19,
   "id": "8d60844f",
   "metadata": {},
   "outputs": [
    {
     "name": "stdout",
     "output_type": "stream",
     "text": [
      "(1611, 5)\n",
      "(403, 5)\n",
      "(1611,)\n",
      "(403,)\n"
     ]
    }
   ],
   "source": [
    "print(x_train.shape)\n",
    "print(x_test.shape)\n",
    "print(y_train.shape)\n",
    "print(y_test.shape)"
   ]
  },
  {
   "cell_type": "code",
   "execution_count": 20,
   "id": "803cc94d",
   "metadata": {},
   "outputs": [],
   "source": [
    "from sklearn.neural_network import MLPRegressor #sklearn neural network"
   ]
  },
  {
   "cell_type": "code",
   "execution_count": 21,
   "id": "3f98f77c",
   "metadata": {},
   "outputs": [],
   "source": [
    "ml=MLPRegressor()"
   ]
  },
  {
   "cell_type": "code",
   "execution_count": 22,
   "id": "f37ac138",
   "metadata": {},
   "outputs": [
    {
     "data": {
      "text/plain": [
       "MLPRegressor()"
      ]
     },
     "execution_count": 22,
     "metadata": {},
     "output_type": "execute_result"
    }
   ],
   "source": [
    "ml.fit(x_train,y_train)"
   ]
  },
  {
   "cell_type": "code",
   "execution_count": 23,
   "id": "766f0737",
   "metadata": {},
   "outputs": [
    {
     "data": {
      "text/plain": [
       "MLPRegressor()"
      ]
     },
     "execution_count": 23,
     "metadata": {},
     "output_type": "execute_result"
    }
   ],
   "source": [
    "ml"
   ]
  },
  {
   "cell_type": "code",
   "execution_count": 24,
   "id": "a1e8e266",
   "metadata": {},
   "outputs": [],
   "source": [
    "Y_pred=ml.predict(x_test)"
   ]
  },
  {
   "cell_type": "code",
   "execution_count": 25,
   "id": "3ed26dc6",
   "metadata": {},
   "outputs": [
    {
     "data": {
      "text/plain": [
       "0.9996883845702761"
      ]
     },
     "execution_count": 25,
     "metadata": {},
     "output_type": "execute_result"
    }
   ],
   "source": [
    "ml.score(x_train,y_train)  #R^2 value"
   ]
  },
  {
   "cell_type": "code",
   "execution_count": 26,
   "id": "8120210a",
   "metadata": {},
   "outputs": [],
   "source": [
    "from sklearn.metrics import mean_squared_error\n",
    "import math\n"
   ]
  },
  {
   "cell_type": "code",
   "execution_count": 27,
   "id": "c6d11dd4",
   "metadata": {},
   "outputs": [
    {
     "name": "stdout",
     "output_type": "stream",
     "text": [
      "0.18215529160816643\n"
     ]
    }
   ],
   "source": [
    "print(math.sqrt(mean_squared_error(y_test,Y_pred))) #mean squared value"
   ]
  },
  {
   "cell_type": "code",
   "execution_count": 28,
   "id": "ea352687",
   "metadata": {},
   "outputs": [],
   "source": [
    "ab=MLPRegressor(hidden_layer_sizes=(10,5,3),solver='lbfgs',alpha=0.001)#parameter tuning for sklearn"
   ]
  },
  {
   "cell_type": "code",
   "execution_count": 29,
   "id": "94117244",
   "metadata": {},
   "outputs": [
    {
     "data": {
      "text/plain": [
       "MLPRegressor(alpha=0.001, hidden_layer_sizes=(10, 5, 3), solver='lbfgs')"
      ]
     },
     "execution_count": 29,
     "metadata": {},
     "output_type": "execute_result"
    }
   ],
   "source": [
    "ab.fit(x_train,y_train)"
   ]
  },
  {
   "cell_type": "code",
   "execution_count": 30,
   "id": "34e31af2",
   "metadata": {},
   "outputs": [],
   "source": [
    "y_preds=ab.predict(x_test)"
   ]
  },
  {
   "cell_type": "code",
   "execution_count": 31,
   "id": "7b155909",
   "metadata": {},
   "outputs": [
    {
     "data": {
      "text/plain": [
       "0.9999845391194705"
      ]
     },
     "execution_count": 31,
     "metadata": {},
     "output_type": "execute_result"
    }
   ],
   "source": [
    "ab.score(x_train,y_train)#R^2 value"
   ]
  },
  {
   "cell_type": "code",
   "execution_count": 32,
   "id": "72f2131f",
   "metadata": {},
   "outputs": [
    {
     "name": "stdout",
     "output_type": "stream",
     "text": [
      "0.0425377177709878\n"
     ]
    }
   ],
   "source": [
    "print(math.sqrt(mean_squared_error(y_test,y_preds)))#mean squared value"
   ]
  },
  {
   "cell_type": "code",
   "execution_count": null,
   "id": "24ab609a",
   "metadata": {},
   "outputs": [],
   "source": []
  }
 ],
 "metadata": {
  "kernelspec": {
   "display_name": "Python 3",
   "language": "python",
   "name": "python3"
  },
  "language_info": {
   "codemirror_mode": {
    "name": "ipython",
    "version": 3
   },
   "file_extension": ".py",
   "mimetype": "text/x-python",
   "name": "python",
   "nbconvert_exporter": "python",
   "pygments_lexer": "ipython3",
   "version": "3.8.8"
  }
 },
 "nbformat": 4,
 "nbformat_minor": 5
}
